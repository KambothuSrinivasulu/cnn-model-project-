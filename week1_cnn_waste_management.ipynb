{
  "metadata": {
    "kernelspec": {
      "language": "python",
      "display_name": "Python 3",
      "name": "python3"
    },
    "language_info": {
      "name": "python",
      "version": "3.10.12",
      "mimetype": "text/x-python",
      "codemirror_mode": {
        "name": "ipython",
        "version": 3
      },
      "pygments_lexer": "ipython3",
      "nbconvert_exporter": "python",
      "file_extension": ".py"
    },
    "kaggle": {
      "accelerator": "none",
      "dataSources": [
        {
          "sourceId": 497253,
          "sourceType": "datasetVersion",
          "datasetId": 233210
        }
      ],
      "dockerImageVersionId": 30839,
      "isInternetEnabled": false,
      "language": "python",
      "sourceType": "notebook",
      "isGpuEnabled": false
    },
    "colab": {
      "name": "week1 cnn waste management",
      "provenance": []
    }
  },
  "nbformat_minor": 0,
  "nbformat": 4,
  "cells": [
    {
      "source": [
        "# IMPORTANT: RUN THIS CELL IN ORDER TO IMPORT YOUR KAGGLE DATA SOURCES,\n",
        "# THEN FEEL FREE TO DELETE THIS CELL.\n",
        "# NOTE: THIS NOTEBOOK ENVIRONMENT DIFFERS FROM KAGGLE'S PYTHON\n",
        "# ENVIRONMENT SO THERE MAY BE MISSING LIBRARIES USED BY YOUR\n",
        "# NOTEBOOK.\n",
        "import kagglehub\n",
        "techsash_waste_classification_data_path = kagglehub.dataset_download('techsash/waste-classification-data')\n",
        "\n",
        "print('Data source import complete.')\n"
      ],
      "metadata": {
        "id": "8uBZID5qTgYM"
      },
      "cell_type": "code",
      "outputs": [],
      "execution_count": null
    },
    {
      "cell_type": "code",
      "source": [
        "# This Python 3 environment comes with many helpful analytics libraries installed\n",
        "# It is defined by the kaggle/python Docker image: https://github.com/kaggle/docker-python\n",
        "# For example, here's several helpful packages to load\n",
        "\n",
        "import numpy as np # linear algebra\n",
        "import pandas as pd # data processing, CSV file I/O (e.g. pd.read_csv)\n",
        "\n",
        "# Input data files are available in the read-only \"../input/\" directory\n",
        "# For example, running this (by clicking run or pressing Shift+Enter) will list all files under the input directory\n",
        "\n",
        "import os\n",
        "for dirname, _, filenames in os.walk('/kaggle/input'):\n",
        "    for filename in filenames:\n",
        "        print(os.path.join(dirname, filename))\n",
        "\n",
        "# You can write up to 20GB to the current directory (/kaggle/working/) that gets preserved as output when you create a version using \"Save & Run All\"\n",
        "# You can also write temporary files to /kaggle/temp/, but they won't be saved outside of the current session"
      ],
      "metadata": {
        "_uuid": "8f2839f25d086af736a60e9eeb907d3b93b6e0e5",
        "_cell_guid": "b1076dfc-b9ad-4769-8c92-a6c4dae69d19",
        "trusted": true,
        "execution": {
          "iopub.status.busy": "2025-01-24T17:01:10.655114Z",
          "iopub.execute_input": "2025-01-24T17:01:10.655356Z",
          "iopub.status.idle": "2025-01-24T17:02:43.770777Z",
          "shell.execute_reply.started": "2025-01-24T17:01:10.655333Z",
          "shell.execute_reply": "2025-01-24T17:02:43.769725Z"
        },
        "id": "BEA7cNl1TgYN"
      },
      "outputs": [],
      "execution_count": null
    },
    {
      "cell_type": "code",
      "source": [
        "import tensorflow as tf\n",
        "print(\"TensorFlow Version:\", tf.__version__)\n",
        "print(\"Is GPU Available:\", tf.config.list_physical_devices('GPU'))"
      ],
      "metadata": {
        "trusted": true,
        "execution": {
          "iopub.status.busy": "2025-01-24T17:03:01.372683Z",
          "iopub.execute_input": "2025-01-24T17:03:01.373311Z",
          "iopub.status.idle": "2025-01-24T17:03:01.379659Z",
          "shell.execute_reply.started": "2025-01-24T17:03:01.373277Z",
          "shell.execute_reply": "2025-01-24T17:03:01.378615Z"
        },
        "id": "x0puliJUTgYO"
      },
      "outputs": [],
      "execution_count": null
    },
    {
      "cell_type": "code",
      "source": [
        "# Importing necessary libraries\n",
        "import numpy as np\n",
        "import pandas as pd\n",
        "import matplotlib.pyplot as plt\n",
        "import cv2\n",
        "from tqdm import tqdm\n",
        "import warnings\n",
        "warnings.filterwarnings('ignore')\n"
      ],
      "metadata": {
        "trusted": true,
        "execution": {
          "iopub.status.busy": "2025-01-24T17:03:01.90089Z",
          "iopub.execute_input": "2025-01-24T17:03:01.901214Z",
          "iopub.status.idle": "2025-01-24T17:03:01.906295Z",
          "shell.execute_reply.started": "2025-01-24T17:03:01.901178Z",
          "shell.execute_reply": "2025-01-24T17:03:01.9051Z"
        },
        "id": "46CeztRnTgYO"
      },
      "outputs": [],
      "execution_count": null
    },
    {
      "cell_type": "code",
      "source": [
        "train_path = \"/kaggle/input/waste-classification-data/DATASET/TRAIN\"\n",
        "test_path = \"/kaggle/input/waste-classification-data/DATASET/TEST\""
      ],
      "metadata": {
        "trusted": true,
        "execution": {
          "iopub.status.busy": "2025-01-24T17:03:01.949882Z",
          "iopub.execute_input": "2025-01-24T17:03:01.950266Z",
          "iopub.status.idle": "2025-01-24T17:03:01.969386Z",
          "shell.execute_reply.started": "2025-01-24T17:03:01.950239Z",
          "shell.execute_reply": "2025-01-24T17:03:01.968062Z"
        },
        "id": "sgzaw8h3TgYO"
      },
      "outputs": [],
      "execution_count": null
    },
    {
      "cell_type": "code",
      "source": [
        "# Importing Libraries\n",
        "from tensorflow.keras.models import Sequential\n",
        "from tensorflow.keras.layers import Conv2D, MaxPooling2D, Activation, Dropout, Flatten, Dense, BatchNormalization\n",
        "from tensorflow.keras.preprocessing.image import ImageDataGenerator, img_to_array, load_img\n",
        "from tensorflow.keras.utils import plot_model\n",
        "from glob import glob"
      ],
      "metadata": {
        "trusted": true,
        "execution": {
          "iopub.status.busy": "2025-01-24T17:03:03.470141Z",
          "iopub.execute_input": "2025-01-24T17:03:03.470478Z",
          "iopub.status.idle": "2025-01-24T17:03:03.47558Z",
          "shell.execute_reply.started": "2025-01-24T17:03:03.470453Z",
          "shell.execute_reply": "2025-01-24T17:03:03.474128Z"
        },
        "id": "cNyCkbEZTgYP"
      },
      "outputs": [],
      "execution_count": null
    },
    {
      "cell_type": "code",
      "source": [
        "# Visualization\n",
        "from cv2 import cvtColor\n",
        "x_data = []\n",
        "y_data = []\n",
        "for category in glob(train_path+'/*'):\n",
        "    for file in tqdm(glob(category+'/*')):\n",
        "        img_array = cv2.imread(file)\n",
        "        img_array = cv2.cvtColor(img_array, cv2.COLOR_BGR2RGB)\n",
        "        x_data.append(img_array)\n",
        "        y_data.append(category.split(\"/\")[-1])\n",
        "data = pd.DataFrame({'image': x_data, 'label': y_data})"
      ],
      "metadata": {
        "trusted": true,
        "execution": {
          "iopub.status.busy": "2025-01-24T17:07:19.300215Z",
          "iopub.execute_input": "2025-01-24T17:07:19.300562Z",
          "iopub.status.idle": "2025-01-24T17:10:15.856691Z",
          "shell.execute_reply.started": "2025-01-24T17:07:19.300537Z",
          "shell.execute_reply": "2025-01-24T17:10:15.855349Z"
        },
        "id": "PPDEOeChTgYP"
      },
      "outputs": [],
      "execution_count": null
    },
    {
      "cell_type": "code",
      "source": [
        "data.shape"
      ],
      "metadata": {
        "trusted": true,
        "execution": {
          "iopub.status.busy": "2025-01-24T17:10:15.858236Z",
          "iopub.execute_input": "2025-01-24T17:10:15.858556Z",
          "iopub.status.idle": "2025-01-24T17:10:15.865068Z",
          "shell.execute_reply.started": "2025-01-24T17:10:15.858527Z",
          "shell.execute_reply": "2025-01-24T17:10:15.864032Z"
        },
        "id": "wRkMaqLUTgYP"
      },
      "outputs": [],
      "execution_count": null
    },
    {
      "cell_type": "code",
      "source": [
        "colors = ['#a0d157', '#c48bb8']\n",
        "plt.pie(data.label.value_counts(), labels=['Organic', 'Recyclable'], autopct='%0.2f%%',\n",
        "        colors=colors, startangle=90, explode=[0.05, 0.05])\n",
        "plt.show()"
      ],
      "metadata": {
        "trusted": true,
        "execution": {
          "iopub.status.busy": "2025-01-24T17:10:16.293597Z",
          "iopub.execute_input": "2025-01-24T17:10:16.293908Z",
          "iopub.status.idle": "2025-01-24T17:10:16.383721Z",
          "shell.execute_reply.started": "2025-01-24T17:10:16.293883Z",
          "shell.execute_reply": "2025-01-24T17:10:16.382518Z"
        },
        "id": "wxkHYlpbTgYP"
      },
      "outputs": [],
      "execution_count": null
    }
  ]
}